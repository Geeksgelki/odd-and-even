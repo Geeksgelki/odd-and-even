{
 "cells": [
  {
   "cell_type": "code",
   "execution_count": 1,
   "id": "21669ad1",
   "metadata": {},
   "outputs": [
    {
     "name": "stdout",
     "output_type": "stream",
     "text": [
      "The original list is : ['great', 'hello', 'hiyo', 'abc', 'hi']\n",
      "Sorted List : ['abc', 'hi', 'hello', 'hiyo', 'great']\n"
     ]
    }
   ],
   "source": [
    "# Python3 code to demonstrate working of\n",
    "# Sort by Rear Character in Strings List\n",
    "# Using sorted() + lambda\n",
    "\n",
    "# initializing list\n",
    "test_list = ['great', 'hello', 'hiyo', 'abc','hi']\n",
    "\n",
    "# printing original list\n",
    "print(\"The original list is : \" + str(test_list))\n",
    "\n",
    "# lambda function for rear element\n",
    "# performs non-inplace sort\n",
    "res = sorted(test_list, key = lambda sub : sub[-1])\n",
    "\n",
    "# printing result\n",
    "print(\"Sorted List : \" + str(res))\n"
   ]
  },
  {
   "cell_type": "code",
   "execution_count": null,
   "id": "4328b882",
   "metadata": {},
   "outputs": [],
   "source": []
  }
 ],
 "metadata": {
  "kernelspec": {
   "display_name": "Python 3 (ipykernel)",
   "language": "python",
   "name": "python3"
  },
  "language_info": {
   "codemirror_mode": {
    "name": "ipython",
    "version": 3
   },
   "file_extension": ".py",
   "mimetype": "text/x-python",
   "name": "python",
   "nbconvert_exporter": "python",
   "pygments_lexer": "ipython3",
   "version": "3.9.12"
  }
 },
 "nbformat": 4,
 "nbformat_minor": 5
}
