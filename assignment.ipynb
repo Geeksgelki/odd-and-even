{
 "cells": [
  {
   "cell_type": "code",
   "execution_count": 2,
   "id": "1f34d25d",
   "metadata": {},
   "outputs": [
    {
     "name": "stdout",
     "output_type": "stream",
     "text": [
      "Valid\n"
     ]
    }
   ],
   "source": [
    "# Python3 program to check if three\n",
    "# sides form a triangle or not\n",
    "\n",
    "# function to check if three sides\n",
    "# form a triangle or not\n",
    "def checkValidity(a, b, c):\n",
    "\t\n",
    "\t# check condition\n",
    "\tif (a + b <= c) or (a + c <= b) or (b + c <= a) :\n",
    "\t\treturn False\n",
    "\telse:\n",
    "\t\treturn True\t\t\n",
    "\n",
    "# driver code\n",
    "a = 7\n",
    "b = 10\n",
    "c = 5\n",
    "if checkValidity(a, b, c):\n",
    "\tprint(\"Valid\")\n",
    "else:\n",
    "\tprint(\"Invalid\")"
   ]
  },
  {
   "cell_type": "code",
   "execution_count": 3,
   "id": "f1209465",
   "metadata": {},
   "outputs": [
    {
     "name": "stdout",
     "output_type": "stream",
     "text": [
      "No\n"
     ]
    }
   ],
   "source": [
    "# A simple program to find if given 4\n",
    "# values can represent 4 sides of rectangle\n",
    "\n",
    "# Function to check if the given\n",
    "# integers value make a rectangle\n",
    "\n",
    "\n",
    "def isRectangle(a, b, c, d):\n",
    "\n",
    "\t# check all sides of rectangle combinations\n",
    "\tif (a == b and d == c) or (a == c and b == d) or (a == d and b == c):\n",
    "\t\treturn True\n",
    "\telse:\n",
    "\t\treturn False\n",
    "\n",
    "\n",
    "# Driver code\n",
    "a, b, c, d = 1, 2, 3, 4\n",
    "print(\"Yes\" if isRectangle(a, b, c, d) else \"No\")"
   ]
  },
  {
   "cell_type": "code",
   "execution_count": null,
   "id": "e359e684",
   "metadata": {},
   "outputs": [],
   "source": []
  }
 ],
 "metadata": {
  "kernelspec": {
   "display_name": "Python 3 (ipykernel)",
   "language": "python",
   "name": "python3"
  },
  "language_info": {
   "codemirror_mode": {
    "name": "ipython",
    "version": 3
   },
   "file_extension": ".py",
   "mimetype": "text/x-python",
   "name": "python",
   "nbconvert_exporter": "python",
   "pygments_lexer": "ipython3",
   "version": "3.9.12"
  }
 },
 "nbformat": 4,
 "nbformat_minor": 5
}
